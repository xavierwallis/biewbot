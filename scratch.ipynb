{
 "cells": [
  {
   "cell_type": "code",
   "id": "initial_id",
   "metadata": {
    "collapsed": true,
    "ExecuteTime": {
     "end_time": "2024-04-15T05:03:17.397338Z",
     "start_time": "2024-04-15T05:03:17.215174Z"
    }
   },
   "source": [
    "import psutil\n",
    "\n",
    "PROCNAME = \"Safari\"\n",
    "\n",
    "for proc in psutil.process_iter():\n",
    "    # check whether the process name matches\n",
    "    if proc.name() == PROCNAME:\n",
    "        proc.kill()"
   ],
   "outputs": [],
   "execution_count": 10
  },
  {
   "metadata": {
    "ExecuteTime": {
     "end_time": "2024-04-15T05:03:17.816876Z",
     "start_time": "2024-04-15T05:03:17.791360Z"
    }
   },
   "cell_type": "code",
   "source": [
    "PROCNAME = \"safaridriver\"\n",
    "\n",
    "for proc in psutil.process_iter():\n",
    "    # check whether the process name matches\n",
    "    if proc.name() == PROCNAME:\n",
    "        proc.kill()"
   ],
   "id": "c13a228e9cf83cb4",
   "outputs": [],
   "execution_count": 11
  },
  {
   "metadata": {},
   "cell_type": "code",
   "outputs": [],
   "execution_count": null,
   "source": "",
   "id": "19e6484a43f179dd"
  }
 ],
 "metadata": {
  "kernelspec": {
   "display_name": "Python 3",
   "language": "python",
   "name": "python3"
  },
  "language_info": {
   "codemirror_mode": {
    "name": "ipython",
    "version": 2
   },
   "file_extension": ".py",
   "mimetype": "text/x-python",
   "name": "python",
   "nbconvert_exporter": "python",
   "pygments_lexer": "ipython2",
   "version": "2.7.6"
  }
 },
 "nbformat": 4,
 "nbformat_minor": 5
}
